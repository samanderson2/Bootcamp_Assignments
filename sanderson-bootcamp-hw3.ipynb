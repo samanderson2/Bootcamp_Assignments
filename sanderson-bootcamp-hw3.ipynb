{
 "cells": [
  {
   "cell_type": "markdown",
   "metadata": {},
   "source": [
    "# Homework 3"
   ]
  },
  {
   "cell_type": "markdown",
   "metadata": {},
   "source": [
    "- **Author:** Sam Anderson\n",
    "- **Date:** 9-3-2019"
   ]
  },
  {
   "cell_type": "markdown",
   "metadata": {},
   "source": [
    "**Question 1**\n",
    "- Import packages"
   ]
  },
  {
   "cell_type": "code",
   "execution_count": 15,
   "metadata": {},
   "outputs": [],
   "source": [
    "import os\n",
    "import numpy as np\n",
    "import urllib.request\n",
    "import pandas as pd\n",
    "import glob"
   ]
  },
  {
   "cell_type": "markdown",
   "metadata": {},
   "source": [
    "**Question 2**\n",
    "- use glob and conditional statements to check directories. "
   ]
  },
  {
   "cell_type": "code",
   "execution_count": 16,
   "metadata": {},
   "outputs": [
    {
     "name": "stdout",
     "output_type": "stream",
     "text": [
      "The data directory exists. Proceed!\n"
     ]
    }
   ],
   "source": [
    "os.chdir(\"C:/Users/Sam/earth-analytics-bootcamp/\")\n",
    "directorylist = glob.glob('*')\n",
    "    \n",
    "if \"data\" in directorylist and \"sanderson-bootcamp-hw3.ipynb\" in directorylist :\n",
    "    print(\"The data directory exists. Proceed!\")\n",
    "            \n",
    "else:\n",
    "    print(\"The data directory does NOT exist. Create the data directory before continuing!\")"
   ]
  },
  {
   "cell_type": "markdown",
   "metadata": {},
   "source": [
    "*Question 3*\n",
    "- Download txt and csv files"
   ]
  },
  {
   "cell_type": "code",
   "execution_count": 17,
   "metadata": {},
   "outputs": [
    {
     "name": "stdout",
     "output_type": "stream",
     "text": [
      "[32.2 42.3 50.3 48.9 55.7 68.7 73.9 69.  63.5 51.5 47.5 36.4] [34.1 40.9 43.  49.  54.1 70.5 74.  70.4 64.9 58.8 47.5 32. ] [36.5 36.6 46.1 50.1 52.4 68.3 70.3 70.5 69.4 56.2 40.8 33.1] [[33.  30.1 42.7 48.8 53.9 66.9 72.5 72.4 66.6 55.  39.8 37.2]\n",
      " [33.1 32.  45.2 48.9 53.7 67.6 73.5 75.1 63.4 52.9 42.3 32.2]\n",
      " [38.9 32.3 50.8 54.3 60.2 74.2 74.8 73.2 66.  50.8 46.1 33.7]\n",
      " [33.  32.1 40.5 43.8 57.7 69.9 72.2 72.2 65.1 47.8 43.2 31.5]\n",
      " [34.6 32.  43.6 49.8 56.6 66.2 72.2 69.2 63.8 55.3 38.3 33.9]] [[35.4 33.6 48.2 49.2 59.9 62.7 69.2 66.4 62.9 51.9 39.7 36.5]\n",
      " [35.5 37.9 42.  48.4 57.6 65.4 75.1 69.7 66.2 52.6 45.  33.3]\n",
      " [40.7 33.7 39.4 53.9 61.  71.6 74.4 71.6 58.4 51.  43.4 35.3]\n",
      " [27.2 34.6 47.6 47.9 58.  67.7 74.8 73.7 64.5 55.2 44.9 30.2]\n",
      " [31.6 36.1 40.8 47.8 57.1 66.1 75.  69.6 60.9 46.  46.  31.1]\n",
      " [38.2 39.7 44.3 47.3 59.3 63.  69.6 69.6 63.1 44.5 43.8 26.7]]\n"
     ]
    }
   ],
   "source": [
    "urllib.request.urlretrieve(url = \"https://ndownloader.figshare.com/files/12767972\", \n",
    "                           filename = \"boulder-temp-2004-to-2009.csv\")\n",
    "\n",
    "btemp04to09 = np.loadtxt(fname = \"C:/Users/Sam/earth-analytics-bootcamp/boulder-temp-2004-to-2009.csv\", delimiter=',')\n",
    "\n",
    "urllib.request.urlretrieve(url = \"https://ndownloader.figshare.com/files/12767960\", \n",
    "                           filename = \"boulder-temp-2010-to-2014.csv\")\n",
    "\n",
    "btemp10to14 = np.loadtxt(fname = \"C:/Users/Sam/earth-analytics-bootcamp/boulder-temp-2010-to-2014.csv\", delimiter=',')\n",
    "\n",
    "urllib.request.urlretrieve(url = \"https://ndownloader.figshare.com/files/12767963\", \n",
    "                           filename = \"boulder-temp-2015.txt\")\n",
    "\n",
    "btemp15 = np.loadtxt(fname = \"C:/Users/Sam/earth-analytics-bootcamp/boulder-temp-2015.txt\")\n",
    "\n",
    "urllib.request.urlretrieve(url = \"https://ndownloader.figshare.com/files/12767969\", \n",
    "                           filename = \"boulder-temp-2016.txt\")\n",
    "\n",
    "btemp16 = np.loadtxt(fname = \"C:/Users/Sam/earth-analytics-bootcamp/boulder-temp-2016.txt\")\n",
    "\n",
    "urllib.request.urlretrieve(url = \"https://ndownloader.figshare.com/files/12767966\", \n",
    "                           filename = \"boulder-temp-2017.txt\")\n",
    "\n",
    "btemp17 = np.loadtxt(fname = \"C:/Users/Sam/earth-analytics-bootcamp/boulder-temp-2017.txt\")\n",
    "\n",
    "print(btemp17, btemp16, btemp15, btemp10to14, btemp04to09)"
   ]
  },
  {
   "cell_type": "markdown",
   "metadata": {},
   "source": [
    "**Question 4**\n",
    "- Write and execute a loop to recalculate the values in these numpy arrays from Fahrenheit to Celsius.\n",
    "\n",
    "- Recall that Celsius = (Fahrenheit - 32) / 1.8, and that you can print an empty line using print(\"\") within your loop to create spaces between the results.\n",
    "\n",
    "- Be sure to print each numpy array as part of the loop."
   ]
  },
  {
   "cell_type": "code",
   "execution_count": 18,
   "metadata": {},
   "outputs": [
    {
     "name": "stdout",
     "output_type": "stream",
     "text": [
      "['boulder-temp-2015.txt', 'boulder-temp-2016.txt', 'boulder-temp-2017.txt']\n",
      "[2.5, 2.5555555555555562, 7.833333333333334, 10.055555555555555, 11.333333333333332, 20.166666666666664, 21.277777777777775, 21.38888888888889, 20.777777777777782, 13.444444444444446, 4.8888888888888875, 0.6111111111111119]\n",
      "\n",
      "[1.1666666666666674, 4.944444444444444, 6.111111111111111, 9.444444444444445, 12.277777777777779, 21.38888888888889, 23.333333333333332, 21.333333333333336, 18.277777777777782, 14.888888888888888, 8.61111111111111, 0.0]\n",
      "\n",
      "[0.11111111111111269, 5.7222222222222205, 10.166666666666664, 9.388888888888888, 13.166666666666668, 20.38888888888889, 23.277777777777782, 20.555555555555554, 17.5, 10.833333333333334, 8.61111111111111, 2.4444444444444438]\n"
     ]
    }
   ],
   "source": [
    "# use glob to make list of .txt.\n",
    "btemp = glob.glob('*txt*')\n",
    "print (btemp)\n",
    "\n",
    "\n",
    "\n",
    "btemp15c = []\n",
    "btemp16c = []    \n",
    "btemp17c = []\n",
    "\n",
    "# use loop to convert values in `btemp15` and add values to new list\n",
    "for i in btemp15:\n",
    "    \n",
    "    # convery each item in the list from F to C\n",
    "    i = (i - 32)/1.8\n",
    "    \n",
    "    # add each item to the new list \n",
    "    btemp15c += [i]\n",
    "    \n",
    "#repeat for other two years    \n",
    "for x in btemp16:\n",
    "    x = (x - 32)/1.8\n",
    "    btemp16c += [x]\n",
    "    \n",
    "for y in btemp17:\n",
    "    y = (y - 32)/1.8\n",
    "    btemp17c += [y]\n",
    "    \n",
    "# print the new lists after the loop has completed\n",
    "print(btemp15c)\n",
    "print('')\n",
    "print(btemp16c)\n",
    "print('')\n",
    "print(btemp17c)"
   ]
  },
  {
   "cell_type": "markdown",
   "metadata": {},
   "source": [
    "**Question 5 and 6**\n",
    "- Write loop to calculate and print median values for arrays made from .txt files.\n",
    "- Expand on your loop from the previous question to add each numpy array median value to a new list.\n",
    "- Print your final list of median values."
   ]
  },
  {
   "cell_type": "code",
   "execution_count": 19,
   "metadata": {},
   "outputs": [
    {
     "name": "stdout",
     "output_type": "stream",
     "text": [
      "median: 51.25\n",
      "median: 51.55\n",
      "median: 50.9\n",
      "[51.25, 51.55, 50.9]\n"
     ]
    }
   ],
   "source": [
    "#make list of arrays\n",
    "arraylist = [btemp15, btemp16, btemp17]\n",
    "\n",
    "#make new list\n",
    "medianlist = []\n",
    "\n",
    "# use loop to calculate sum and median values for each array in arraylist\n",
    "for array in arraylist:\n",
    "    array_median = np.median(array)\n",
    "    medianlist += [np.median(array)]\n",
    "    \n",
    "    # print the median values within the loop\n",
    "    print(\"median:\", array_median)\n",
    "\n",
    "print(medianlist)"
   ]
  },
  {
   "cell_type": "markdown",
   "metadata": {},
   "source": [
    "**Question 7**\n",
    "- Use glob.glob to create a list that contains the names of the .csv files and to create a second list that contains the names of the .txt. files."
   ]
  },
  {
   "cell_type": "code",
   "execution_count": 20,
   "metadata": {},
   "outputs": [
    {
     "name": "stdout",
     "output_type": "stream",
     "text": [
      "['boulder-precip-1996-to-2006-months.csv', 'boulder-precip-2007-to-2017-months.csv', 'boulder-temp-2004-to-2009.csv', 'boulder-temp-2010-to-2014.csv', 'CA-fires-month-count-1992-to-2015.csv', 'CA_fires_1992_2015_gt_100_acres.csv', 'monthly-precip-cel-1998-to-2017.csv', 'monthly-precip-mm-1998-to-2017.csv', 'monthly-temp-cel-1998-to-2017.csv', 'snow-2007-to-2017-months-seasons.csv', 'snow-2007-to-2017.csv']\n",
      "\n",
      "['boulder-temp-2015.txt', 'boulder-temp-2016.txt', 'boulder-temp-2017.txt']\n"
     ]
    }
   ],
   "source": [
    "# create a list of all items in the data directory that are .csv\n",
    "csvlist = glob.glob('*csv*')\n",
    "\n",
    "#create second list of .txt\n",
    "txtlist = glob.glob('*txt*')\n",
    "\n",
    "# print lists\n",
    "print(csvlist)\n",
    "print('')\n",
    "print(txtlist)"
   ]
  },
  {
   "cell_type": "markdown",
   "metadata": {},
   "source": [
    "**Question 8**\n",
    "- Download CSV Files and Import Into Pandas Dataframes."
   ]
  },
  {
   "cell_type": "code",
   "execution_count": 21,
   "metadata": {},
   "outputs": [
    {
     "name": "stdout",
     "output_type": "stream",
     "text": [
      "    Year  January  February    March    April      May     June     July  \\\n",
      "0   1996   48.006     7.366   54.864   37.846  117.602   70.358   49.784   \n",
      "1   1997   22.098    46.482   23.114  146.558   55.626   93.726   28.956   \n",
      "2   1998   27.178     5.842   86.614  115.824   46.228   46.990  102.108   \n",
      "3   1999   16.510     2.032   27.686  191.770   46.736   20.828   64.516   \n",
      "4   2000    7.366    13.970   65.024   38.100   40.640   38.862   53.086   \n",
      "5   2001   18.542    21.844   51.054   76.708   91.948   27.686   44.704   \n",
      "6   2002   27.178    11.176   38.100    5.080   81.280   29.972    2.286   \n",
      "7   2003    2.286    38.608  138.176   75.946   66.548   68.326   18.034   \n",
      "8   2004   20.828    33.274   27.686  143.764   32.512  100.584   87.376   \n",
      "9   2005   35.560     7.874   30.988   98.044   48.514   68.072   10.668   \n",
      "10  2006   11.176    17.272   52.832   26.416   28.956   33.528   66.802   \n",
      "\n",
      "     August  September  October  November  December  \n",
      "0    16.002     88.392    7.112    36.322     9.398  \n",
      "1   133.858     48.768   68.580    38.608    17.272  \n",
      "2    24.638     16.764   28.448    38.862    26.670  \n",
      "3   140.716     66.548   33.782    20.574    25.654  \n",
      "4    18.288     63.754   32.512    22.606    11.176  \n",
      "5    41.656     44.958   10.160    25.908     9.144  \n",
      "6    36.576     38.608   61.976    19.812     0.508  \n",
      "7    89.408      8.890   11.430    20.320    21.336  \n",
      "8    73.152     52.578   58.928    50.546     8.890  \n",
      "9    41.402     13.208   71.120     8.636    10.922  \n",
      "10   31.242     31.750   94.234    18.796    77.470  \n",
      "\n",
      "       months   y2007    y2008    y2009   y2010    y2011    y2012    y2013  \\\n",
      "0     January  42.672   11.684   15.748   7.112   24.384    9.652    6.858   \n",
      "1    February  21.844   16.002    6.858  34.798   25.908   49.276   28.702   \n",
      "2       March  42.926   37.338   48.006  83.820    8.382    0.254   43.688   \n",
      "3       April  56.896   28.702  149.352  92.202   61.214   33.274  105.156   \n",
      "4         May  45.466  106.934   78.232  68.834  131.064   45.212   67.564   \n",
      "5        June   9.652   40.132   68.580  85.344   34.290    9.652   15.494   \n",
      "6        July  20.320    2.286   36.068  58.674   72.898  126.746   26.162   \n",
      "7         Aug  46.228   75.438    8.382  27.178   27.432    9.144   35.560   \n",
      "8   September  48.768   46.736   10.668   6.350   65.024   57.658  461.264   \n",
      "9     October  35.052   29.972   82.804  24.130   41.910   36.576   56.896   \n",
      "10   November  11.938    3.302   23.622  15.494   24.892    7.112    7.366   \n",
      "11   December  53.340   33.782   35.306  12.192   48.768   12.954   12.700   \n",
      "\n",
      "      y2014    y2015   y2016    y2017 seasons  \n",
      "0    42.418    9.652   9.398   35.814  Winter  \n",
      "1    17.272   93.726  36.576   18.542  Winter  \n",
      "2    41.148    9.652  97.536   36.830  Spring  \n",
      "3    47.498  114.300  84.836   80.010  Spring  \n",
      "4   112.522  198.628  51.054  159.766  Spring  \n",
      "5    21.336   44.704  60.198   11.430  Summer  \n",
      "6   116.078   75.692  15.494   33.020  Summer  \n",
      "7    40.640    7.874  26.924   41.148  Summer  \n",
      "8    73.152    3.556  11.430   48.768    Fall  \n",
      "9    29.464   51.308   9.652   61.468    Fall  \n",
      "10   22.352   46.482  11.938   14.478    Fall  \n",
      "11   34.798   28.194  23.114   17.272  Winter  \n"
     ]
    }
   ],
   "source": [
    "urllib.request.urlretrieve(url = \"https://ndownloader.figshare.com/files/12767930\", \n",
    "                           filename = \"boulder-precip-1996-to-2006-months.csv\")\n",
    "\n",
    "bprecip96to06 = pd.read_csv(\"boulder-precip-1996-to-2006-months.csv\")\n",
    "\n",
    "\n",
    "urllib.request.urlretrieve(url = \"https://ndownloader.figshare.com/files/12767933\", \n",
    "                           filename = \"boulder-precip-2007-to-2017-months.csv\")\n",
    "\n",
    "bprecip07to17 = pd.read_csv(\"boulder-precip-2007-to-2017-months.csv\")\n",
    "\n",
    "print(bprecip96to06)\n",
    "print('')\n",
    "print(bprecip07to17)"
   ]
  },
  {
   "cell_type": "markdown",
   "metadata": {},
   "source": [
    "**Question 9**\n",
    "- create a new label index of \"year\" for bprecip96to06"
   ]
  },
  {
   "cell_type": "code",
   "execution_count": 22,
   "metadata": {},
   "outputs": [
    {
     "name": "stdout",
     "output_type": "stream",
     "text": [
      "      January  February    March    April      May     June     July   August  \\\n",
      "Year                                                                            \n",
      "1996   48.006     7.366   54.864   37.846  117.602   70.358   49.784   16.002   \n",
      "1997   22.098    46.482   23.114  146.558   55.626   93.726   28.956  133.858   \n",
      "1998   27.178     5.842   86.614  115.824   46.228   46.990  102.108   24.638   \n",
      "1999   16.510     2.032   27.686  191.770   46.736   20.828   64.516  140.716   \n",
      "2000    7.366    13.970   65.024   38.100   40.640   38.862   53.086   18.288   \n",
      "2001   18.542    21.844   51.054   76.708   91.948   27.686   44.704   41.656   \n",
      "2002   27.178    11.176   38.100    5.080   81.280   29.972    2.286   36.576   \n",
      "2003    2.286    38.608  138.176   75.946   66.548   68.326   18.034   89.408   \n",
      "2004   20.828    33.274   27.686  143.764   32.512  100.584   87.376   73.152   \n",
      "2005   35.560     7.874   30.988   98.044   48.514   68.072   10.668   41.402   \n",
      "2006   11.176    17.272   52.832   26.416   28.956   33.528   66.802   31.242   \n",
      "\n",
      "      September  October  November  December  \n",
      "Year                                          \n",
      "1996     88.392    7.112    36.322     9.398  \n",
      "1997     48.768   68.580    38.608    17.272  \n",
      "1998     16.764   28.448    38.862    26.670  \n",
      "1999     66.548   33.782    20.574    25.654  \n",
      "2000     63.754   32.512    22.606    11.176  \n",
      "2001     44.958   10.160    25.908     9.144  \n",
      "2002     38.608   61.976    19.812     0.508  \n",
      "2003      8.890   11.430    20.320    21.336  \n",
      "2004     52.578   58.928    50.546     8.890  \n",
      "2005     13.208   71.120     8.636    10.922  \n",
      "2006     31.750   94.234    18.796    77.470  \n"
     ]
    }
   ],
   "source": [
    "# create index using the values in the column `year`\n",
    "\n",
    "bprecip96to06 = bprecip96to06.set_index(\"Year\")\n",
    "\n",
    "print(bprecip96to06)"
   ]
  },
  {
   "cell_type": "markdown",
   "metadata": {},
   "source": [
    "**Question 10**\n",
    "- Use loops to describe summary stats for each column\n",
    "\n",
    "Hints:\n",
    "\n",
    "- It can help to create a list of month names to iterate upon.\n",
    "- Recall the appropriate function to calculate summary statistics of pandas dataframes.\n",
    "- To select columns in pandas dataframes using implicit variables (i.e. not explicitly created by you), change the syntax from dataframe.column_name to dataframe[[column_name]].\n",
    "- Think about the placement of print() in order to see the results of each iteration of your loop."
   ]
  },
  {
   "cell_type": "code",
   "execution_count": 23,
   "metadata": {},
   "outputs": [
    {
     "data": {
      "text/html": [
       "<div>\n",
       "<style scoped>\n",
       "    .dataframe tbody tr th:only-of-type {\n",
       "        vertical-align: middle;\n",
       "    }\n",
       "\n",
       "    .dataframe tbody tr th {\n",
       "        vertical-align: top;\n",
       "    }\n",
       "\n",
       "    .dataframe thead th {\n",
       "        text-align: right;\n",
       "    }\n",
       "</style>\n",
       "<table border=\"1\" class=\"dataframe\">\n",
       "  <thead>\n",
       "    <tr style=\"text-align: right;\">\n",
       "      <th></th>\n",
       "      <th>January</th>\n",
       "      <th>February</th>\n",
       "      <th>March</th>\n",
       "      <th>April</th>\n",
       "      <th>May</th>\n",
       "      <th>June</th>\n",
       "      <th>July</th>\n",
       "      <th>August</th>\n",
       "      <th>September</th>\n",
       "      <th>October</th>\n",
       "      <th>November</th>\n",
       "      <th>December</th>\n",
       "    </tr>\n",
       "  </thead>\n",
       "  <tbody>\n",
       "    <tr>\n",
       "      <th>count</th>\n",
       "      <td>11.000000</td>\n",
       "      <td>11.000000</td>\n",
       "      <td>11.000000</td>\n",
       "      <td>11.000000</td>\n",
       "      <td>11.000000</td>\n",
       "      <td>11.000000</td>\n",
       "      <td>11.000000</td>\n",
       "      <td>11.000000</td>\n",
       "      <td>11.000000</td>\n",
       "      <td>11.000000</td>\n",
       "      <td>11.000000</td>\n",
       "      <td>11.000000</td>\n",
       "    </tr>\n",
       "    <tr>\n",
       "      <th>mean</th>\n",
       "      <td>21.520727</td>\n",
       "      <td>18.703636</td>\n",
       "      <td>54.194364</td>\n",
       "      <td>86.914182</td>\n",
       "      <td>59.690000</td>\n",
       "      <td>54.448364</td>\n",
       "      <td>48.029091</td>\n",
       "      <td>58.812545</td>\n",
       "      <td>43.110727</td>\n",
       "      <td>43.480182</td>\n",
       "      <td>27.362727</td>\n",
       "      <td>19.858182</td>\n",
       "    </tr>\n",
       "    <tr>\n",
       "      <th>std</th>\n",
       "      <td>12.941090</td>\n",
       "      <td>14.697921</td>\n",
       "      <td>33.767344</td>\n",
       "      <td>58.408494</td>\n",
       "      <td>27.283904</td>\n",
       "      <td>27.357645</td>\n",
       "      <td>31.445868</td>\n",
       "      <td>44.695248</td>\n",
       "      <td>24.616280</td>\n",
       "      <td>29.070701</td>\n",
       "      <td>12.157073</td>\n",
       "      <td>20.693384</td>\n",
       "    </tr>\n",
       "    <tr>\n",
       "      <th>min</th>\n",
       "      <td>2.286000</td>\n",
       "      <td>2.032000</td>\n",
       "      <td>23.114000</td>\n",
       "      <td>5.080000</td>\n",
       "      <td>28.956000</td>\n",
       "      <td>20.828000</td>\n",
       "      <td>2.286000</td>\n",
       "      <td>16.002000</td>\n",
       "      <td>8.890000</td>\n",
       "      <td>7.112000</td>\n",
       "      <td>8.636000</td>\n",
       "      <td>0.508000</td>\n",
       "    </tr>\n",
       "    <tr>\n",
       "      <th>25%</th>\n",
       "      <td>13.843000</td>\n",
       "      <td>7.620000</td>\n",
       "      <td>29.337000</td>\n",
       "      <td>37.973000</td>\n",
       "      <td>43.434000</td>\n",
       "      <td>31.750000</td>\n",
       "      <td>23.495000</td>\n",
       "      <td>27.940000</td>\n",
       "      <td>24.257000</td>\n",
       "      <td>19.939000</td>\n",
       "      <td>20.066000</td>\n",
       "      <td>9.271000</td>\n",
       "    </tr>\n",
       "    <tr>\n",
       "      <th>50%</th>\n",
       "      <td>20.828000</td>\n",
       "      <td>13.970000</td>\n",
       "      <td>51.054000</td>\n",
       "      <td>76.708000</td>\n",
       "      <td>48.514000</td>\n",
       "      <td>46.990000</td>\n",
       "      <td>49.784000</td>\n",
       "      <td>41.402000</td>\n",
       "      <td>44.958000</td>\n",
       "      <td>33.782000</td>\n",
       "      <td>22.606000</td>\n",
       "      <td>11.176000</td>\n",
       "    </tr>\n",
       "    <tr>\n",
       "      <th>75%</th>\n",
       "      <td>27.178000</td>\n",
       "      <td>27.559000</td>\n",
       "      <td>59.944000</td>\n",
       "      <td>129.794000</td>\n",
       "      <td>73.914000</td>\n",
       "      <td>69.342000</td>\n",
       "      <td>65.659000</td>\n",
       "      <td>81.280000</td>\n",
       "      <td>58.166000</td>\n",
       "      <td>65.278000</td>\n",
       "      <td>37.465000</td>\n",
       "      <td>23.495000</td>\n",
       "    </tr>\n",
       "    <tr>\n",
       "      <th>max</th>\n",
       "      <td>48.006000</td>\n",
       "      <td>46.482000</td>\n",
       "      <td>138.176000</td>\n",
       "      <td>191.770000</td>\n",
       "      <td>117.602000</td>\n",
       "      <td>100.584000</td>\n",
       "      <td>102.108000</td>\n",
       "      <td>140.716000</td>\n",
       "      <td>88.392000</td>\n",
       "      <td>94.234000</td>\n",
       "      <td>50.546000</td>\n",
       "      <td>77.470000</td>\n",
       "    </tr>\n",
       "  </tbody>\n",
       "</table>\n",
       "</div>"
      ],
      "text/plain": [
       "         January   February       March       April         May        June  \\\n",
       "count  11.000000  11.000000   11.000000   11.000000   11.000000   11.000000   \n",
       "mean   21.520727  18.703636   54.194364   86.914182   59.690000   54.448364   \n",
       "std    12.941090  14.697921   33.767344   58.408494   27.283904   27.357645   \n",
       "min     2.286000   2.032000   23.114000    5.080000   28.956000   20.828000   \n",
       "25%    13.843000   7.620000   29.337000   37.973000   43.434000   31.750000   \n",
       "50%    20.828000  13.970000   51.054000   76.708000   48.514000   46.990000   \n",
       "75%    27.178000  27.559000   59.944000  129.794000   73.914000   69.342000   \n",
       "max    48.006000  46.482000  138.176000  191.770000  117.602000  100.584000   \n",
       "\n",
       "             July      August  September    October   November   December  \n",
       "count   11.000000   11.000000  11.000000  11.000000  11.000000  11.000000  \n",
       "mean    48.029091   58.812545  43.110727  43.480182  27.362727  19.858182  \n",
       "std     31.445868   44.695248  24.616280  29.070701  12.157073  20.693384  \n",
       "min      2.286000   16.002000   8.890000   7.112000   8.636000   0.508000  \n",
       "25%     23.495000   27.940000  24.257000  19.939000  20.066000   9.271000  \n",
       "50%     49.784000   41.402000  44.958000  33.782000  22.606000  11.176000  \n",
       "75%     65.659000   81.280000  58.166000  65.278000  37.465000  23.495000  \n",
       "max    102.108000  140.716000  88.392000  94.234000  50.546000  77.470000  "
      ]
     },
     "execution_count": 23,
     "metadata": {},
     "output_type": "execute_result"
    }
   ],
   "source": [
    "# I think I figured out a better way to abide by the DRY principle, thank you stack overflow.\n",
    "bprecip96to06.describe()\n"
   ]
  },
  {
   "cell_type": "markdown",
   "metadata": {},
   "source": [
    "**Question 11**\n",
    "- Write and execute a loop or conditional statement that will produce two plots from your pandas dataframe for precip-2007-to-2017-months-seasons.csv: one for 2007 and one for 2013.\n",
    "- Choose plot type and colors to help you tell the story of these two years, and be sure to label each plot with the appropriate title including the year.\n",
    "\n",
    "Hints:\n",
    "\n",
    "- To select columns in pandas dataframes using implicit variables (i.e. not explicitly created by you), change the syntax from dataframe.column_name to dataframe[[column_name]].\n",
    "- Recall that you can build a text string using the syntax \"text here\" + variable + \"more text here\"."
   ]
  },
  {
   "cell_type": "code",
   "execution_count": 26,
   "metadata": {},
   "outputs": [
    {
     "data": {
      "image/png": "[encoded data removed]",
      "text/plain": [
       "<Figure size 1584x1008 with 1 Axes>"
      ]
     },
     "metadata": {},
     "output_type": "display_data"
    },
    {
     "data": {
      "image/png": "[encoded data removed]",
      "text/plain": [
       "<Figure size 1584x1008 with 1 Axes>"
      ]
     },
     "metadata": {},
     "output_type": "display_data"
    }
   ],
   "source": [
    "import seaborn as sns\n",
    "import matplotlib as plt\n",
    "\n",
    "# Loop over desired columns\n",
    "for column in bprecip07to17[['y2007', 'y2013']]:\n",
    "    sns.set()\n",
    "    fig, ax = plt.pyplot.subplots()\n",
    "    sns.scatterplot(x='months', y=column, data=bprecip07to17)  \n",
    "    fig.set_size_inches(22,14)\n",
    "    ax.set(title=\"Precipitation for \" + column + \" in Boulder, Co\")\n",
    "    ax.set(xlabel=\"Month\", ylabel=\"Precipitation (mm)\");\n",
    "\n",
    "    \n"
   ]
  },
  {
   "cell_type": "markdown",
   "metadata": {},
   "source": [
    "**Question 12**\n",
    "- Why did you choose the method you used to create the plots (i.e. loops or conditional statement)?\n",
    "    - I used a for loop because I felt like I need more practice with for loops specifically.\n",
    "- Compare your plots. What do you notice about their y-axes and their precipitation values? Which year experienced the highest peak and when did it occur?\n",
    "    - September of 2013 had the largest amount of rainfall.\n",
    "- Instead of creating two separate plots, what else could you do to plot these data and highlight the differences between the years as well as highlight the peak of the data?\n",
    "    - One could create a single plot with both data columns to better compare differences in rainfall."
   ]
  },
  {
   "cell_type": "code",
   "execution_count": null,
   "metadata": {},
   "outputs": [],
   "source": []
  },
  {
   "cell_type": "code",
   "execution_count": null,
   "metadata": {},
   "outputs": [],
   "source": []
  }
 ],
 "metadata": {
  "kernelspec": {
   "display_name": "Python 3",
   "language": "python",
   "name": "python3"
  },
  "language_info": {
   "codemirror_mode": {
    "name": "ipython",
    "version": 3
   },
   "file_extension": ".py",
   "mimetype": "text/x-python",
   "name": "python",
   "nbconvert_exporter": "python",
   "pygments_lexer": "ipython3",
   "version": "3.7.3"
  }
 },
 "nbformat": 4,
 "nbformat_minor": 2
}
