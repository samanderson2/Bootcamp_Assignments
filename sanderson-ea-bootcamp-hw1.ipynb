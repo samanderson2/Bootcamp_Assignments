{
 "cells": [
  {
   "cell_type": "markdown",
   "metadata": {},
   "source": [
    "## Sam Hw 1"
   ]
  },
  {
   "cell_type": "markdown",
   "metadata": {},
   "source": [
    "- **Author** - Sam Anderson\n",
    "- **Date** - 9/2"
   ]
  },
  {
   "cell_type": "markdown",
   "metadata": {},
   "source": [
    "1. I define open reproducable science as being accessable to all and also as science which can be recreated with the same results at a later time.\n",
    "2. Python supports reproducable science because it is free and accessable to anyone with access to a computer."
   ]
  },
  {
   "cell_type": "markdown",
   "metadata": {},
   "source": [
    "**Question 4**"
   ]
  },
  {
   "cell_type": "code",
   "execution_count": 16,
   "metadata": {},
   "outputs": [],
   "source": [
    "import os\n",
    "import matplotlib.pyplot as plt"
   ]
  },
  {
   "cell_type": "markdown",
   "metadata": {},
   "source": [
    "**Question 5**"
   ]
  },
  {
   "cell_type": "code",
   "execution_count": 18,
   "metadata": {},
   "outputs": [
    {
     "name": "stdout",
     "output_type": "stream",
     "text": [
      "C:\\Users\\Sam\\earth-analytics-bootcamp\n"
     ]
    }
   ],
   "source": [
    "print(os.getcwd())"
   ]
  },
  {
   "cell_type": "markdown",
   "metadata": {},
   "source": [
    "**Question 6**"
   ]
  },
  {
   "cell_type": "code",
   "execution_count": 20,
   "metadata": {},
   "outputs": [
    {
     "name": "stdout",
     "output_type": "stream",
     "text": [
      "33.8\n"
     ]
    }
   ],
   "source": [
    "# create variables for each month\n",
    "jan = 32.0\n",
    "feb = 35.6\n",
    "mar = 41.0\n",
    "apr = 49.2\n",
    "may = 57.9\n",
    "june = 67.2\n",
    "july = 73.0\n",
    "aug = 71.1\n",
    "sept = 62.1\n",
    "oct = 52.9\n",
    "nov = 40.8\n",
    "dec = 33.8\n",
    "\n",
    "# create a list of the monthly variables\n",
    "precip = [jan, feb, mar, apr, may, june, july, aug, sept, oct, nov, dec] \n",
    "\n",
    "# print variable for December\n",
    "print(precip[11])\n"
   ]
  },
  {
   "cell_type": "markdown",
   "metadata": {},
   "source": [
    "**Question 7**"
   ]
  },
  {
   "cell_type": "code",
   "execution_count": 30,
   "metadata": {},
   "outputs": [
    {
     "name": "stdout",
     "output_type": "stream",
     "text": [
      "0.9999999999999984\n"
     ]
    }
   ],
   "source": [
    "# convert variables for each month\n",
    "jan = (32.0 - 32) / 1.8\n",
    "feb = (35.6 - 32) / 1.8\n",
    "mar = (41.0 - 32) / 1.8\n",
    "apr = (49.2 - 32) / 1.8\n",
    "may = (57.9 - 32) / 1.8\n",
    "june = (67.2 - 32) / 1.8\n",
    "july = (73.0 - 32) / 1.8\n",
    "aug = (71.1 - 32) / 1.8\n",
    "sept = (62.1 - 32) / 1.8\n",
    "oct = (52.9 - 32) / 1.8\n",
    "nov = (40.8 - 32) / 1.8\n",
    "dec = (33.8 - 32) / 1.8\n",
    "\n",
    "# create a list of the converted monthly variables\n",
    "precip_con = [jan, feb, mar, apr, may, june, july, aug, sept, oct, nov, dec] \n",
    "\n",
    "# print converted variable for December\n",
    "print(precip_con[11])"
   ]
  },
  {
   "cell_type": "markdown",
   "metadata": {},
   "source": [
    "**Question 8**\n"
   ]
  },
  {
   "cell_type": "code",
   "execution_count": 31,
   "metadata": {},
   "outputs": [
    {
     "name": "stdout",
     "output_type": "stream",
     "text": [
      "[0.0, 2.000000000000001, 5.0, 9.555555555555557, 14.388888888888888, 19.555555555555557, 22.77777777777778, 21.722222222222218, 16.72222222222222, 11.61111111111111, 4.8888888888888875, 0.9999999999999984]\n"
     ]
    }
   ],
   "source": [
    "# list already created, print values\n",
    "print(precip_con)"
   ]
  },
  {
   "cell_type": "code",
   "execution_count": 32,
   "metadata": {},
   "outputs": [
    {
     "name": "stdout",
     "output_type": "stream",
     "text": [
      "['January', 'February', 'March', 'April', 'May', 'June', 'July', 'August', 'September', 'October', 'November', 'December']\n"
     ]
    }
   ],
   "source": [
    "# print list of month names\n",
    "month_names = ['January', 'February', 'March', 'April', 'May', 'June', 'July', 'August', 'September', 'October', 'November', 'December']\n",
    "print(month_names)"
   ]
  },
  {
   "cell_type": "markdown",
   "metadata": {},
   "source": [
    "**Question 9**"
   ]
  },
  {
   "cell_type": "code",
   "execution_count": 38,
   "metadata": {},
   "outputs": [
    {
     "data": {
      "text/plain": [
       "([<matplotlib.axis.XTick at 0x215f7bfe438>,\n",
       "  <matplotlib.axis.XTick at 0x215f7934b00>,\n",
       "  <matplotlib.axis.XTick at 0x215f7bdce48>,\n",
       "  <matplotlib.axis.XTick at 0x215f7c366d8>,\n",
       "  <matplotlib.axis.XTick at 0x215f7c36ba8>,\n",
       "  <matplotlib.axis.XTick at 0x215f7c3d160>,\n",
       "  <matplotlib.axis.XTick at 0x215f7c3d668>,\n",
       "  <matplotlib.axis.XTick at 0x215f7c3dbe0>,\n",
       "  <matplotlib.axis.XTick at 0x215f7c45198>,\n",
       "  <matplotlib.axis.XTick at 0x215f7c45710>,\n",
       "  <matplotlib.axis.XTick at 0x215f7c3da58>,\n",
       "  <matplotlib.axis.XTick at 0x215f7c457f0>],\n",
       " <a list of 12 Text xticklabel objects>)"
      ]
     },
     "execution_count": 38,
     "metadata": {},
     "output_type": "execute_result"
    },
    {
     "data": {
      "image/png": "[encoded data removed]",
      "text/plain": [
       "<Figure size 864x864 with 1 Axes>"
      ]
     },
     "metadata": {
      "needs_background": "light"
     },
     "output_type": "display_data"
    }
   ],
   "source": [
    "# set plot size for the plot\n",
    "plt.rcParams[\"figure.figsize\"] = (12, 12)\n",
    "\n",
    "# create the plot space upon which to plot the data\n",
    "fig, ax = plt.subplots()\n",
    "\n",
    "# add the x-axis and the y-axis to the plot\n",
    "ax.bar(month_names, precip_con, color=\"red\")\n",
    "\n",
    "# set plot title\n",
    "ax.set(title=\"Average Monthly Temperature in Boulder, CO\")\n",
    "\n",
    "# add labels to the axes\n",
    "ax.set(xlabel=\"Month\", ylabel=\"Precipitation (mm)\");\n",
    "\n",
    "plt.xticks(month_names, rotation='45')"
   ]
  },
  {
   "cell_type": "markdown",
   "metadata": {},
   "source": [
    "**Question 10**"
   ]
  },
  {
   "cell_type": "markdown",
   "metadata": {},
   "source": [
    "1.  The month with the lowest temperature is January, and the month with the highest temperature is July.  The difference between the average temperatures of July and January is 22.8\n",
    "\n",
    "2.  These results are not suprising.  If Boulder was located in the Southern Hemispehere, we would expect that the average temperatures during the winter months would be the highest and the average temperatures during the summer months would be the lowest.\n",
    "\n",
    "3.  Again, these results are not suprising.  If Boulder were located closer to the equator, there would be less seasonal varation in average temperature.\n"
   ]
  },
  {
   "cell_type": "code",
   "execution_count": null,
   "metadata": {},
   "outputs": [],
   "source": []
  },
  {
   "cell_type": "code",
   "execution_count": null,
   "metadata": {},
   "outputs": [],
   "source": []
  }
 ],
 "metadata": {
  "kernelspec": {
   "display_name": "Python 3",
   "language": "python",
   "name": "python3"
  },
  "language_info": {
   "codemirror_mode": {
    "name": "ipython",
    "version": 3
   },
   "file_extension": ".py",
   "mimetype": "text/x-python",
   "name": "python",
   "nbconvert_exporter": "python",
   "pygments_lexer": "ipython3",
   "version": "3.7.3"
  }
 },
 "nbformat": 4,
 "nbformat_minor": 2
}
