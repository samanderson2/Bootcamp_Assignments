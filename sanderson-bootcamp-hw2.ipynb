{
 "cells": [
  {
   "cell_type": "markdown",
   "metadata": {},
   "source": [
    "# Homework 2"
   ]
  },
  {
   "cell_type": "markdown",
   "metadata": {},
   "source": [
    "- **Author:** Sam Anderson\n",
    "- **Date:** 9-3-2019"
   ]
  },
  {
   "cell_type": "markdown",
   "metadata": {},
   "source": [
    "**Question 2**\n",
    "- Import necessary packages."
   ]
  },
  {
   "cell_type": "code",
   "execution_count": 2,
   "metadata": {},
   "outputs": [],
   "source": [
    "import os\n",
    "import numpy as np\n",
    "import matplotlib as plt\n",
    "import urllib.request\n",
    "import pandas as pd\n"
   ]
  },
  {
   "cell_type": "markdown",
   "metadata": {},
   "source": [
    "**Question 3**\n",
    "- Download the CSV file of monthly snowfall to your data directory.\n",
    "- Import that CSV into a numpy array."
   ]
  },
  {
   "cell_type": "code",
   "execution_count": 3,
   "metadata": {},
   "outputs": [],
   "source": [
    "urllib.request.urlretrieve(url = \"https://ndownloader.figshare.com/files/12746039\", \n",
    "                           filename = \"snow-2007-to-2017.csv\")\n",
    "\n",
    "avg_monthly_snowfall = np.loadtxt(fname = \"C:/Users/Sam/earth-analytics-bootcamp/snow-2007-to-2017.csv\", delimiter=',')"
   ]
  },
  {
   "cell_type": "markdown",
   "metadata": {},
   "source": [
    "**Question 4**\n",
    "- Print array without scientific notation."
   ]
  },
  {
   "cell_type": "code",
   "execution_count": 4,
   "metadata": {},
   "outputs": [
    {
     "name": "stdout",
     "output_type": "stream",
     "text": [
      "[[27.5    15.3     4.5     2.2     0.0001  0.      0.      0.      0.\n",
      "   0.1     5.9    30.    ]\n",
      " [10.3    10.4    17.6     7.9     0.7     0.      0.      0.      0.\n",
      "   0.2     1.3    20.9   ]\n",
      " [13.      3.9    21.4    20.4     0.      0.      0.      0.      0.\n",
      "  30.1     8.9    27.8   ]\n",
      " [ 4.6    22.9    28.7     5.8     5.6     3.5     0.      0.      0.\n",
      "   0.0001  2.      9.5   ]\n",
      " [18.2    13.2     0.7     3.5     0.2     0.      0.      0.      0.\n",
      "  11.5     8.6    33.1   ]\n",
      " [ 7.8    32.1     0.0001  1.6     0.0001  0.      0.      0.      0.\n",
      "   7.9     0.8    11.7   ]\n",
      " [ 3.7    18.5    22.8    47.6    12.3     0.      0.      0.      0.\n",
      "   5.4     6.3     9.    ]\n",
      " [27.2    11.7    11.2    12.2     6.8     0.      0.      0.      0.5\n",
      "   0.     16.9    19.8   ]\n",
      " [ 6.     54.6     8.      7.4     3.9     0.0001  0.      0.      0.\n",
      "   0.     11.5    17.4   ]\n",
      " [ 4.1    21.8    32.5    21.4     1.      0.      0.      0.      0.\n",
      "   0.      4.4    13.    ]\n",
      " [18.7     9.9     0.     19.4     6.1     0.      0.      0.      0.\n",
      "   8.      4.1    10.2   ]]\n"
     ]
    }
   ],
   "source": [
    "np.set_printoptions(suppress=True)\n",
    "print(avg_monthly_snowfall)"
   ]
  },
  {
   "cell_type": "markdown",
   "metadata": {},
   "source": [
    "**Question 5**\n",
    "- Convert from inches to mm (1in=25.4mm), print without scientific notation."
   ]
  },
  {
   "cell_type": "code",
   "execution_count": 5,
   "metadata": {},
   "outputs": [
    {
     "name": "stdout",
     "output_type": "stream",
     "text": [
      "[[ 698.5      388.62     114.3       55.88       0.00254    0.\n",
      "     0.         0.         0.         2.54     149.86     762.     ]\n",
      " [ 261.62     264.16     447.04     200.66      17.78       0.\n",
      "     0.         0.         0.         5.08      33.02     530.86   ]\n",
      " [ 330.2       99.06     543.56     518.16       0.         0.\n",
      "     0.         0.         0.       764.54     226.06     706.12   ]\n",
      " [ 116.84     581.66     728.98     147.32     142.24      88.9\n",
      "     0.         0.         0.         0.00254   50.8      241.3    ]\n",
      " [ 462.28     335.28      17.78      88.9        5.08       0.\n",
      "     0.         0.         0.       292.1      218.44     840.74   ]\n",
      " [ 198.12     815.34       0.00254   40.64       0.00254    0.\n",
      "     0.         0.         0.       200.66      20.32     297.18   ]\n",
      " [  93.98     469.9      579.12    1209.04     312.42       0.\n",
      "     0.         0.         0.       137.16     160.02     228.6    ]\n",
      " [ 690.88     297.18     284.48     309.88     172.72       0.\n",
      "     0.         0.        12.7        0.       429.26     502.92   ]\n",
      " [ 152.4     1386.84     203.2      187.96      99.06       0.00254\n",
      "     0.         0.         0.         0.       292.1      441.96   ]\n",
      " [ 104.14     553.72     825.5      543.56      25.4        0.\n",
      "     0.         0.         0.         0.       111.76     330.2    ]\n",
      " [ 474.98     251.46       0.       492.76     154.94       0.\n",
      "     0.         0.         0.       203.2      104.14     259.08   ]]\n"
     ]
    }
   ],
   "source": [
    "snowfall_mm = avg_monthly_snowfall * 25.4\n",
    "np.set_printoptions(suppress=True)\n",
    "print(snowfall_mm)"
   ]
  },
  {
   "cell_type": "markdown",
   "metadata": {},
   "source": [
    "**Question 6**\n",
    "- Create and print a new array with values for the first year in mm."
   ]
  },
  {
   "cell_type": "code",
   "execution_count": 6,
   "metadata": {},
   "outputs": [
    {
     "name": "stdout",
     "output_type": "stream",
     "text": [
      "[698.5     388.62    114.3      55.88      0.00254   0.        0.\n",
      "   0.        0.        2.54    149.86    762.     ]\n"
     ]
    }
   ],
   "source": [
    "snwfl_one = snowfall_mm[0]\n",
    "print(snwfl_one)"
   ]
  },
  {
   "cell_type": "markdown",
   "metadata": {},
   "source": [
    "**Question 7**\n",
    "- Create and print a new array for all recorded January values in mm."
   ]
  },
  {
   "cell_type": "code",
   "execution_count": 7,
   "metadata": {},
   "outputs": [
    {
     "name": "stdout",
     "output_type": "stream",
     "text": [
      "[698.5  261.62 330.2  116.84 462.28 198.12  93.98 690.88 152.4  104.14\n",
      " 474.98]\n"
     ]
    }
   ],
   "source": [
    "snwfl_2 = snowfall_mm[:,0]\n",
    "print(snwfl_2)"
   ]
  },
  {
   "cell_type": "markdown",
   "metadata": {},
   "source": [
    "**Question 8**\n",
    "- Print max value."
   ]
  },
  {
   "cell_type": "code",
   "execution_count": 8,
   "metadata": {},
   "outputs": [
    {
     "name": "stdout",
     "output_type": "stream",
     "text": [
      "762.0\n"
     ]
    }
   ],
   "source": [
    "max_sf07 = np.max(snwfl_one)\n",
    "print(max_sf07)"
   ]
  },
  {
   "cell_type": "code",
   "execution_count": 9,
   "metadata": {},
   "outputs": [
    {
     "name": "stdout",
     "output_type": "stream",
     "text": [
      "325.8127272727273\n"
     ]
    }
   ],
   "source": [
    "avg_sfjan = np.mean(snwfl_2)\n",
    "print(avg_sfjan)"
   ]
  },
  {
   "cell_type": "markdown",
   "metadata": {},
   "source": [
    "**Question 10**\n",
    "- Import snowfall data as a panda and print it."
   ]
  },
  {
   "cell_type": "code",
   "execution_count": 10,
   "metadata": {},
   "outputs": [
    {
     "name": "stdout",
     "output_type": "stream",
     "text": [
      "   months     y2007  y2008  y2009     y2010  y2011     y2012  y2013  y2014  \\\n",
      "0     Jan  27.50000   10.3   13.0   4.60000   18.2   7.80000    3.7   27.2   \n",
      "1     Feb  15.30000   10.4    3.9  22.90000   13.2  32.10000   18.5   11.7   \n",
      "2     Mar   4.50000   17.6   21.4  28.70000    0.7   0.00001   22.8   11.2   \n",
      "3     Apr   2.20000    7.9   20.4   5.80000    3.5   1.60000   47.6   12.2   \n",
      "4     May   0.00001    0.7    0.0   5.60000    0.2   0.00001   12.3    6.8   \n",
      "5    June   0.00000    0.0    0.0   3.50000    0.0   0.00000    0.0    0.0   \n",
      "6    July   0.00000    0.0    0.0   0.00000    0.0   0.00000    0.0    0.0   \n",
      "7     Aug   0.00000    0.0    0.0   0.00000    0.0   0.00000    0.0    0.0   \n",
      "8    Sept   0.00000    0.0    0.0   0.00000    0.0   0.00000    0.0    0.5   \n",
      "9     Oct   0.10000    0.2   30.1   0.00001   11.5   7.90000    5.4    0.0   \n",
      "10    Nov   5.90000    1.3    8.9   2.00000    8.6   0.80000    6.3   16.9   \n",
      "11    Dec  30.00000   20.9   27.8   9.50000   33.1  11.70000    9.0   19.8   \n",
      "\n",
      "       y2015  y2016  y2017 seasons  \n",
      "0    6.00000    4.1   18.7  Winter  \n",
      "1   54.60000   21.8    9.9  Winter  \n",
      "2    8.00000   32.5    0.0  Spring  \n",
      "3    7.40000   21.4   19.4  Spring  \n",
      "4    3.90000    1.0    6.1  Spring  \n",
      "5    0.00001    0.0    0.0  Summer  \n",
      "6    0.00000    0.0    0.0  Summer  \n",
      "7    0.00000    0.0    0.0  Summer  \n",
      "8    0.00000    0.0    0.0    Fall  \n",
      "9    0.00000    0.0    8.0    Fall  \n",
      "10  11.50000    4.4    4.1    Fall  \n",
      "11  17.40000   13.0   10.2  Winter  \n"
     ]
    }
   ],
   "source": [
    "urllib.request.urlretrieve(url = \"https://ndownloader.figshare.com/files/12746042\", \n",
    "                           filename = \"snow-2007-to-2017-months-seasons.csv\")\n",
    "\n",
    "snfl_pd = pd.read_csv(\"snow-2007-to-2017-months-seasons.csv\")\n",
    "print(snfl_pd)"
   ]
  },
  {
   "cell_type": "markdown",
   "metadata": {},
   "source": [
    "**Question 11**\n",
    "- Convert panda data from inches to mm (1in to 25mm)"
   ]
  },
  {
   "cell_type": "code",
   "execution_count": 14,
   "metadata": {},
   "outputs": [
    {
     "name": "stdout",
     "output_type": "stream",
     "text": [
      "<class 'pandas.core.frame.DataFrame'>\n",
      "RangeIndex: 12 entries, 0 to 11\n",
      "Data columns (total 13 columns):\n",
      "months     12 non-null object\n",
      "y2007      12 non-null float64\n",
      "y2008      12 non-null float64\n",
      "y2009      12 non-null float64\n",
      "y2010      12 non-null float64\n",
      "y2011      12 non-null float64\n",
      "y2012      12 non-null float64\n",
      "y2013      12 non-null float64\n",
      "y2014      12 non-null float64\n",
      "y2015      12 non-null float64\n",
      "y2016      12 non-null float64\n",
      "y2017      12 non-null float64\n",
      "seasons    12 non-null object\n",
      "dtypes: float64(11), object(2)\n",
      "memory usage: 1.3+ KB\n"
     ]
    }
   ],
   "source": [
    "snfl_pd.info()\n",
    "snfl_mm = snfl_pd.y2017 * 25.4"
   ]
  },
  {
   "cell_type": "markdown",
   "metadata": {},
   "source": [
    "**Question 12**\n",
    "- Print summary stats."
   ]
  },
  {
   "cell_type": "code",
   "execution_count": 20,
   "metadata": {
    "scrolled": true
   },
   "outputs": [
    {
     "data": {
      "text/plain": [
       "0    474.98\n",
       "1    251.46\n",
       "2      0.00\n",
       "3    492.76\n",
       "4    154.94\n",
       "Name: y2017, dtype: float64"
      ]
     },
     "execution_count": 20,
     "metadata": {},
     "output_type": "execute_result"
    }
   ],
   "source": [
    "snfl_mm.describe()\n",
    "snfl_mm.head()"
   ]
  },
  {
   "cell_type": "markdown",
   "metadata": {},
   "source": [
    "**Question 13**\n",
    "- Yes, the array containing data for the first year- one row- and for January of multiple years- one column.  \n",
    "- Both data structures were equally easy.\n",
    "- The panda data was easier- it only took one command to find all summary stats.\n",
    "- I could imagine it many ways.  I could imagine using array data to represent schmidt hammer values and panda data to express lithologic data.  "
   ]
  },
  {
   "cell_type": "markdown",
   "metadata": {},
   "source": [
    "**Question 14**\n",
    "- plot panda data"
   ]
  },
  {
   "cell_type": "code",
   "execution_count": 16,
   "metadata": {},
   "outputs": [],
   "source": [
    "import matplotlib.pyplot as plt\n"
   ]
  },
  {
   "cell_type": "code",
   "execution_count": 21,
   "metadata": {},
   "outputs": [
    {
     "data": {
      "image/png": "[encoded data removed]",
      "text/plain": [
       "<Figure size 576x576 with 1 Axes>"
      ]
     },
     "metadata": {
      "needs_background": "light"
     },
     "output_type": "display_data"
    }
   ],
   "source": [
    "#Fix labels along the x asis\n",
    "month_array = np.array([\"Jan\", \"Feb\", \"Mar\", \"Apr\", \"May\", \"June\", \"July\", \"Aug\", \"Sept\", \"Oct\", \"Nov\", \"Dec\"])\n",
    "\n",
    "# set plot size for all plots that follow\n",
    "plt.rcParams[\"figure.figsize\"] = (8, 8)\n",
    "\n",
    "# create the plot space upon which to plot the data\n",
    "fig, ax = plt.subplots()\n",
    "\n",
    "# add the x-axis and the y-axis to the plot\n",
    "ax.bar(month_array, snfl_mm, color=\"red\")\n",
    "\n",
    "# set plot title\n",
    "ax.set(title=\"Monthly Snowfall in Boulder, 2017\")\n",
    "\n",
    "# add labels to the axes\n",
    "ax.set(xlabel=\"Month\", ylabel=\"Snowfall (mm)\");\n",
    "\n",
    "\n"
   ]
  },
  {
   "cell_type": "markdown",
   "metadata": {},
   "source": [
    "**Question 15**\n",
    "- I choose a easily readable plot type and color.\n",
    "- The bars on the figure could be labeled."
   ]
  },
  {
   "cell_type": "markdown",
   "metadata": {},
   "source": [
    "**Question 16**\n",
    "- It helped me to understand why some, less clear, symbols should be avoided.\n",
    "- I feel like they are self regulated by the user.  Past confusions would cause any active python user to avoid confusing conventions."
   ]
  },
  {
   "cell_type": "code",
   "execution_count": null,
   "metadata": {},
   "outputs": [],
   "source": []
  }
 ],
 "metadata": {
  "kernelspec": {
   "display_name": "Python 3",
   "language": "python",
   "name": "python3"
  },
  "language_info": {
   "codemirror_mode": {
    "name": "ipython",
    "version": 3
   },
   "file_extension": ".py",
   "mimetype": "text/x-python",
   "name": "python",
   "nbconvert_exporter": "python",
   "pygments_lexer": "ipython3",
   "version": "3.7.3"
  }
 },
 "nbformat": 4,
 "nbformat_minor": 2
}
